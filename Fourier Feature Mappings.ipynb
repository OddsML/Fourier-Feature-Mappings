{
 "cells": [
  {
   "cell_type": "code",
   "execution_count": null,
   "metadata": {
    "execution": {
     "iopub.execute_input": "2025-08-25T17:00:07.366298Z",
     "iopub.status.busy": "2025-08-25T17:00:07.365958Z",
     "iopub.status.idle": "2025-08-25T17:00:07.370454Z",
     "shell.execute_reply": "2025-08-25T17:00:07.369515Z",
     "shell.execute_reply.started": "2025-08-25T17:00:07.366254Z"
    },
    "trusted": true
   },
   "outputs": [],
   "source": [
    "import torch"
   ]
  },
  {
   "cell_type": "code",
   "execution_count": null,
   "metadata": {
    "execution": {
     "iopub.execute_input": "2025-08-25T17:00:07.371803Z",
     "iopub.status.busy": "2025-08-25T17:00:07.371528Z",
     "iopub.status.idle": "2025-08-25T17:00:07.383856Z",
     "shell.execute_reply": "2025-08-25T17:00:07.383245Z",
     "shell.execute_reply.started": "2025-08-25T17:00:07.371780Z"
    },
    "id": "f64b62ac-0846-4504-95dd-241c2aed2d20",
    "trusted": true
   },
   "outputs": [],
   "source": [
    "import math"
   ]
  },
  {
   "cell_type": "code",
   "execution_count": null,
   "metadata": {
    "execution": {
     "iopub.execute_input": "2025-08-25T17:00:07.384764Z",
     "iopub.status.busy": "2025-08-25T17:00:07.384546Z",
     "iopub.status.idle": "2025-08-25T17:00:07.394239Z",
     "shell.execute_reply": "2025-08-25T17:00:07.393679Z",
     "shell.execute_reply.started": "2025-08-25T17:00:07.384739Z"
    },
    "id": "JPsB-dCZSz7W",
    "trusted": true
   },
   "outputs": [],
   "source": [
    "device = torch.device(\"cuda\" if torch.cuda.is_available() else \"cpu\")"
   ]
  },
  {
   "cell_type": "code",
   "execution_count": null,
   "metadata": {
    "execution": {
     "iopub.execute_input": "2025-08-25T17:00:07.396378Z",
     "iopub.status.busy": "2025-08-25T17:00:07.396147Z",
     "iopub.status.idle": "2025-08-25T17:00:07.408048Z",
     "shell.execute_reply": "2025-08-25T17:00:07.407399Z",
     "shell.execute_reply.started": "2025-08-25T17:00:07.396362Z"
    },
    "trusted": true
   },
   "outputs": [],
   "source": [
    "'''\n",
    "    I borrow these values from the paper.\n",
    "    In particular, I use one of the std dev they found\n",
    "        for their natural images dataset\n",
    "        during the image regression task\n",
    "        through hyper-parameter sweep.\n",
    "    I did not redo the hyper-param sweep\n",
    "    and I don't know if these values are optimal!\n",
    "'''\n",
    "channels = 256 #Pg 8\n",
    "freq = 256 # Pg 8\n",
    "sig_pos = 6. # Pg 19\n",
    "sig_gaus = 10. # Pg 19"
   ]
  },
  {
   "cell_type": "code",
   "execution_count": null,
   "metadata": {
    "execution": {
     "iopub.execute_input": "2025-08-25T17:00:07.409019Z",
     "iopub.status.busy": "2025-08-25T17:00:07.408794Z",
     "iopub.status.idle": "2025-08-25T17:00:07.422281Z",
     "shell.execute_reply": "2025-08-25T17:00:07.421561Z",
     "shell.execute_reply.started": "2025-08-25T17:00:07.409002Z"
    },
    "trusted": true
   },
   "outputs": [],
   "source": [
    "'''\n",
    "    I've modified a few of these funcs so that they take more than just v\n",
    "    for example, I've unfixed atens/btens in the general form\n",
    "''' "
   ]
  },
  {
   "cell_type": "code",
   "execution_count": null,
   "metadata": {
    "execution": {
     "iopub.execute_input": "2025-08-25T17:00:07.423181Z",
     "iopub.status.busy": "2025-08-25T17:00:07.423006Z",
     "iopub.status.idle": "2025-08-25T17:00:07.435896Z",
     "shell.execute_reply": "2025-08-25T17:00:07.435205Z",
     "shell.execute_reply.started": "2025-08-25T17:00:07.423168Z"
    },
    "id": "eb2c90a2-ea89-4101-9ecb-d18e72367f0a",
    "trusted": true
   },
   "outputs": [],
   "source": [
    "def general(v: torch.Tensor, atens: torch.Tensor, btens: torch.Tensor):\n",
    "    '''\n",
    "    This func never gets used.\n",
    "    Rather, it's the general form that the rest of the funcs take after.\n",
    "    '''\n",
    "    muls = btens @ v\n",
    "    circle = 2 * math.pi * muls\n",
    "    coses = torch.cos(circle)\n",
    "    sins = torch.sin(circle)\n",
    "    scaled_coses = atens * coses\n",
    "    scaled_sins = atens * sins\n",
    "    pairs = torch.stack((scaled_coses, scaled_sins), dim=1)\n",
    "    interleaved = pairs.flatten()\n",
    "    return interleaved"
   ]
  },
  {
   "cell_type": "code",
   "execution_count": null,
   "metadata": {
    "execution": {
     "iopub.execute_input": "2025-08-25T17:00:07.436817Z",
     "iopub.status.busy": "2025-08-25T17:00:07.436593Z",
     "iopub.status.idle": "2025-08-25T17:00:07.447451Z",
     "shell.execute_reply": "2025-08-25T17:00:07.446823Z",
     "shell.execute_reply.started": "2025-08-25T17:00:07.436794Z"
    },
    "trusted": true
   },
   "outputs": [],
   "source": [
    "'''\n",
    "    I've also modified the rest of these to be able to take multiple vs\n",
    "    so that I can compute the feature's for each dataset in one call\n",
    "'''"
   ]
  },
  {
   "cell_type": "code",
   "execution_count": null,
   "metadata": {
    "execution": {
     "iopub.execute_input": "2025-08-25T17:00:07.448419Z",
     "iopub.status.busy": "2025-08-25T17:00:07.448112Z",
     "iopub.status.idle": "2025-08-25T17:00:07.457941Z",
     "shell.execute_reply": "2025-08-25T17:00:07.457300Z",
     "shell.execute_reply.started": "2025-08-25T17:00:07.448390Z"
    },
    "id": "12c4a3ea-f97f-4eea-b5ce-2b3884e94229",
    "trusted": true
   },
   "outputs": [],
   "source": [
    "def basic(v: torch.Tensor):\n",
    "    '''\n",
    "    I think this basic mapping technically breaks from the general form?\n",
    "    It doesn't interleave coses/sins, rather it returns big cos/sin blocks.\n",
    "    '''\n",
    "    circle = 2 * math.pi * v\n",
    "    cos = torch.cos(circle)\n",
    "    sin = torch.sin(circle)\n",
    "    return torch.cat((cos, sin), dim=-1)"
   ]
  },
  {
   "cell_type": "code",
   "execution_count": null,
   "metadata": {
    "execution": {
     "iopub.execute_input": "2025-08-25T17:00:07.458855Z",
     "iopub.status.busy": "2025-08-25T17:00:07.458606Z",
     "iopub.status.idle": "2025-08-25T17:00:07.469174Z",
     "shell.execute_reply": "2025-08-25T17:00:07.468575Z",
     "shell.execute_reply.started": "2025-08-25T17:00:07.458835Z"
    },
    "trusted": true
   },
   "outputs": [],
   "source": [
    "def positional_encoding(v: torch.Tensor, sigma: float, m: int, dev: torch.device):\n",
    "    js = torch.arange(m).to(dev)\n",
    "    fracs = js/m\n",
    "    sigmas = sigma**fracs\n",
    "    coeffs = 2 * math.pi * sigmas\n",
    "    circle = coeffs.unsqueeze(0).unsqueeze(-1) * v.unsqueeze(-2)\n",
    "    coses = torch.cos(circle)\n",
    "    sins = torch.sin(circle)\n",
    "    combine = torch.stack((coses, sins), dim=-2)\n",
    "    v_groups = combine.view(-1, 2*m, v.size(-1))\n",
    "    return v_groups"
   ]
  },
  {
   "cell_type": "code",
   "execution_count": null,
   "metadata": {
    "execution": {
     "iopub.execute_input": "2025-08-25T17:00:07.471895Z",
     "iopub.status.busy": "2025-08-25T17:00:07.471699Z",
     "iopub.status.idle": "2025-08-25T17:00:07.483212Z",
     "shell.execute_reply": "2025-08-25T17:00:07.482654Z",
     "shell.execute_reply.started": "2025-08-25T17:00:07.471880Z"
    },
    "id": "081a41bd-87fc-4976-af47-e2939d7292c3",
    "trusted": true
   },
   "outputs": [],
   "source": [
    "def gaussian(v: torch.Tensor, sigma: float, m: int, dev: torch.device):\n",
    "    B = torch.normal(0., sigma, (m, v.size(-1))).to(dev) # mu taken from pg 7\n",
    "    muls = B @ v.unsqueeze(-1)\n",
    "    muls = muls.squeeze(-1)\n",
    "    circle = 2 * math.pi * muls\n",
    "    coses = torch.cos(circle)\n",
    "    sins = torch.sin(circle)\n",
    "    return torch.cat((coses, sins), dim=-1)"
   ]
  },
  {
   "cell_type": "code",
   "execution_count": null,
   "metadata": {
    "execution": {
     "iopub.execute_input": "2025-08-25T17:00:07.484437Z",
     "iopub.status.busy": "2025-08-25T17:00:07.484020Z",
     "iopub.status.idle": "2025-08-25T17:00:07.494925Z",
     "shell.execute_reply": "2025-08-25T17:00:07.494241Z",
     "shell.execute_reply.started": "2025-08-25T17:00:07.484414Z"
    },
    "id": "ac50eeb5-3dcb-4f37-a528-2c20d2f435e9",
    "trusted": true
   },
   "outputs": [],
   "source": [
    "import torch.nn as nn\n",
    "import torch.optim as optim"
   ]
  },
  {
   "cell_type": "code",
   "execution_count": null,
   "metadata": {
    "execution": {
     "iopub.execute_input": "2025-08-25T17:00:07.496141Z",
     "iopub.status.busy": "2025-08-25T17:00:07.495970Z",
     "iopub.status.idle": "2025-08-25T17:00:07.506466Z",
     "shell.execute_reply": "2025-08-25T17:00:07.505726Z",
     "shell.execute_reply.started": "2025-08-25T17:00:07.496127Z"
    },
    "id": "d5473750-7e70-4f9a-99e6-843d6fcbdac3",
    "trusted": true
   },
   "outputs": [],
   "source": [
    "criterion = nn.MSELoss()"
   ]
  },
  {
   "cell_type": "code",
   "execution_count": null,
   "metadata": {
    "execution": {
     "iopub.execute_input": "2025-08-25T17:00:07.507402Z",
     "iopub.status.busy": "2025-08-25T17:00:07.507159Z",
     "iopub.status.idle": "2025-08-25T17:00:07.518108Z",
     "shell.execute_reply": "2025-08-25T17:00:07.517404Z",
     "shell.execute_reply.started": "2025-08-25T17:00:07.507382Z"
    },
    "id": "d1282af5-9a95-4267-9559-bb8df6182dc8",
    "trusted": true
   },
   "outputs": [],
   "source": [
    "import torchvision"
   ]
  },
  {
   "cell_type": "code",
   "execution_count": null,
   "metadata": {
    "execution": {
     "iopub.execute_input": "2025-08-25T17:00:07.519049Z",
     "iopub.status.busy": "2025-08-25T17:00:07.518786Z",
     "iopub.status.idle": "2025-08-25T17:00:07.528930Z",
     "shell.execute_reply": "2025-08-25T17:00:07.528222Z",
     "shell.execute_reply.started": "2025-08-25T17:00:07.519026Z"
    },
    "trusted": true
   },
   "outputs": [],
   "source": [
    "vid_dir = \"/kaggle/working/\""
   ]
  },
  {
   "cell_type": "code",
   "execution_count": null,
   "metadata": {
    "execution": {
     "iopub.execute_input": "2025-08-25T17:00:07.529795Z",
     "iopub.status.busy": "2025-08-25T17:00:07.529593Z",
     "iopub.status.idle": "2025-08-25T17:00:08.203089Z",
     "shell.execute_reply": "2025-08-25T17:00:08.202040Z",
     "shell.execute_reply.started": "2025-08-25T17:00:07.529782Z"
    },
    "trusted": true
   },
   "outputs": [],
   "source": [
    "!rm -rf {vid_dir}*\n",
    "!mkdir {vid_dir}nm\n",
    "!mkdir {vid_dir}basic\n",
    "!mkdir {vid_dir}pos\n",
    "!mkdir {vid_dir}gaus"
   ]
  },
  {
   "cell_type": "code",
   "execution_count": null,
   "metadata": {
    "execution": {
     "iopub.execute_input": "2025-08-25T17:00:08.204559Z",
     "iopub.status.busy": "2025-08-25T17:00:08.204310Z",
     "iopub.status.idle": "2025-08-25T17:00:08.226434Z",
     "shell.execute_reply": "2025-08-25T17:00:08.225848Z",
     "shell.execute_reply.started": "2025-08-25T17:00:08.204531Z"
    },
    "id": "71f13dc2-84e9-4561-aead-10c7892db6f6",
    "trusted": true
   },
   "outputs": [],
   "source": [
    "mona = torchvision.transforms.functional.convert_image_dtype(torchvision.io.read_image(\"/kaggle/input/monalisaimage/test.jpg\"), torch.float32)\n",
    "inner_color = mona.permute(1,2,0)\n",
    "xs = torch.linspace(0, 1, inner_color.size(1))\n",
    "ys = torch.linspace(0, 1, inner_color.size(0))\n",
    "grid_tuples = torch.meshgrid(xs, ys, indexing='xy')\n",
    "grid = torch.stack(grid_tuples).permute(1, 2, 0).to(device)\n",
    "labels = inner_color.reshape(inner_color.size(0) * inner_color.size(1), 3).to(device)"
   ]
  },
  {
   "cell_type": "code",
   "execution_count": null,
   "metadata": {
    "execution": {
     "iopub.execute_input": "2025-08-25T17:00:08.227387Z",
     "iopub.status.busy": "2025-08-25T17:00:08.227132Z",
     "iopub.status.idle": "2025-08-25T17:00:08.231589Z",
     "shell.execute_reply": "2025-08-25T17:00:08.231034Z",
     "shell.execute_reply.started": "2025-08-25T17:00:08.227371Z"
    },
    "id": "c105994a-6529-477c-b870-feb4c22e00be",
    "trusted": true
   },
   "outputs": [],
   "source": [
    "nm_input = grid.detach().clone().reshape(grid.size(0) * grid.size(1), 2)"
   ]
  },
  {
   "cell_type": "code",
   "execution_count": null,
   "metadata": {
    "execution": {
     "iopub.execute_input": "2025-08-25T17:00:08.232680Z",
     "iopub.status.busy": "2025-08-25T17:00:08.232416Z",
     "iopub.status.idle": "2025-08-25T17:00:08.244994Z",
     "shell.execute_reply": "2025-08-25T17:00:08.244409Z",
     "shell.execute_reply.started": "2025-08-25T17:00:08.232642Z"
    },
    "id": "4543fbb7-caa5-4800-aa33-bdc34bb4ea1f",
    "trusted": true
   },
   "outputs": [],
   "source": [
    "'''\n",
    "    4 layers with ReLU in between and Sigmoid output,\n",
    "    Same as used for the image regression task in the paper.\n",
    "    Though I am not actually reproducing their image regression experiments.\n",
    "'''\n",
    "no_map = nn.Sequential(\n",
    "    nn.Linear(in_features=2, out_features=channels),\n",
    "    nn.ReLU(),\n",
    "    nn.Linear(in_features=channels, out_features=channels),\n",
    "    nn.ReLU(),\n",
    "    nn.Linear(in_features=channels, out_features=channels),\n",
    "    nn.ReLU(),\n",
    "    nn.Linear(in_features=channels, out_features=3),\n",
    "    nn.Sigmoid()\n",
    ").to(device)\n",
    "\n",
    "optimizer = optim.Adam(no_map.parameters(), lr=10**-2) # Lr Pg 19"
   ]
  },
  {
   "cell_type": "code",
   "execution_count": null,
   "metadata": {
    "execution": {
     "iopub.execute_input": "2025-08-25T17:00:08.246092Z",
     "iopub.status.busy": "2025-08-25T17:00:08.245841Z",
     "iopub.status.idle": "2025-08-25T17:01:42.193316Z",
     "shell.execute_reply": "2025-08-25T17:01:42.192308Z",
     "shell.execute_reply.started": "2025-08-25T17:00:08.246065Z"
    },
    "id": "dbfad94b-431d-446a-ba35-c546f868ca15",
    "outputId": "38cc5cb3-c542-49a0-feaf-fb034366ab15",
    "trusted": true
   },
   "outputs": [],
   "source": [
    "'''\n",
    "    I think it's a bit weird to call this an epoch?\n",
    "    But, I really can load the entire single-image dataset\n",
    "    and do inference on the whole thing\n",
    "    and do every optim step (of which there is only one)\n",
    "    in a single go, so it seems, to me, like these are epochs!\n",
    "'''\n",
    "for epoch in range(1000):\n",
    "    epoch_loss = 0.0\n",
    "\n",
    "    pred = no_map(nm_input)\n",
    "    loss = criterion(pred, labels)\n",
    "    \n",
    "    epoch_loss = loss.item()\n",
    "    optimizer.zero_grad()\n",
    "    loss.backward()\n",
    "    optimizer.step()\n",
    "\n",
    "    img = pred.reshape(512,343,3).permute(2,0,1).detach().cpu()\n",
    "    torchvision.utils.save_image(img, f\"{vid_dir}nm/{epoch:04d}_loss_{epoch_loss:.6f}.png\")\n",
    "    print(epoch)\n",
    "    print(epoch_loss)"
   ]
  },
  {
   "cell_type": "code",
   "execution_count": null,
   "metadata": {
    "execution": {
     "iopub.execute_input": "2025-08-25T17:01:42.194599Z",
     "iopub.status.busy": "2025-08-25T17:01:42.194365Z",
     "iopub.status.idle": "2025-08-25T17:01:42.198710Z",
     "shell.execute_reply": "2025-08-25T17:01:42.198104Z",
     "shell.execute_reply.started": "2025-08-25T17:01:42.194582Z"
    },
    "id": "0d135d94-0359-4cd2-bb61-cfc8e64fffbf",
    "trusted": true
   },
   "outputs": [],
   "source": [
    "learned = no_map(nm_input.to(device))"
   ]
  },
  {
   "cell_type": "code",
   "execution_count": null,
   "metadata": {
    "execution": {
     "iopub.execute_input": "2025-08-25T17:01:42.199629Z",
     "iopub.status.busy": "2025-08-25T17:01:42.199422Z",
     "iopub.status.idle": "2025-08-25T17:01:42.216195Z",
     "shell.execute_reply": "2025-08-25T17:01:42.215452Z",
     "shell.execute_reply.started": "2025-08-25T17:01:42.199612Z"
    },
    "id": "60d8c0ca-7cdb-4aff-8d00-c5ecbcd81a72",
    "trusted": true
   },
   "outputs": [],
   "source": [
    "img = learned.view(512, 343, 3).detach().cpu()"
   ]
  },
  {
   "cell_type": "code",
   "execution_count": null,
   "metadata": {
    "execution": {
     "iopub.execute_input": "2025-08-25T17:01:42.217051Z",
     "iopub.status.busy": "2025-08-25T17:01:42.216875Z",
     "iopub.status.idle": "2025-08-25T17:01:42.223179Z",
     "shell.execute_reply": "2025-08-25T17:01:42.222636Z",
     "shell.execute_reply.started": "2025-08-25T17:01:42.217037Z"
    },
    "id": "f71955a2-81c9-4683-b8d6-5f9b7571e09d",
    "trusted": true
   },
   "outputs": [],
   "source": [
    "import matplotlib.pyplot as plt"
   ]
  },
  {
   "cell_type": "code",
   "execution_count": null,
   "metadata": {
    "execution": {
     "iopub.execute_input": "2025-08-25T17:01:42.224042Z",
     "iopub.status.busy": "2025-08-25T17:01:42.223855Z",
     "iopub.status.idle": "2025-08-25T17:01:42.471602Z",
     "shell.execute_reply": "2025-08-25T17:01:42.470890Z",
     "shell.execute_reply.started": "2025-08-25T17:01:42.224027Z"
    },
    "id": "ac0fe502-3a68-4483-bdc1-e9d7bc0c62ef",
    "outputId": "acb0def7-e1ae-4554-c42a-db327659c135",
    "trusted": true
   },
   "outputs": [],
   "source": [
    "plt.imshow(img.numpy())\n",
    "plt.show()"
   ]
  },
  {
   "cell_type": "code",
   "execution_count": null,
   "metadata": {
    "execution": {
     "iopub.execute_input": "2025-08-25T17:01:42.472778Z",
     "iopub.status.busy": "2025-08-25T17:01:42.472460Z",
     "iopub.status.idle": "2025-08-25T17:01:42.532704Z",
     "shell.execute_reply": "2025-08-25T17:01:42.532147Z",
     "shell.execute_reply.started": "2025-08-25T17:01:42.472750Z"
    },
    "trusted": true
   },
   "outputs": [],
   "source": [
    "torchvision.utils.save_image(img.permute(2, 0, 1), \"new.png\")"
   ]
  },
  {
   "cell_type": "code",
   "execution_count": null,
   "metadata": {
    "execution": {
     "iopub.execute_input": "2025-08-25T17:01:42.533708Z",
     "iopub.status.busy": "2025-08-25T17:01:42.533432Z",
     "iopub.status.idle": "2025-08-25T17:01:42.538081Z",
     "shell.execute_reply": "2025-08-25T17:01:42.537560Z",
     "shell.execute_reply.started": "2025-08-25T17:01:42.533689Z"
    },
    "id": "13d019c6-c27c-45aa-997e-4fe06b0adff4",
    "trusted": true
   },
   "outputs": [],
   "source": [
    "b_input = basic(grid).detach().view(512 * 343, 4)"
   ]
  },
  {
   "cell_type": "code",
   "execution_count": null,
   "metadata": {
    "execution": {
     "iopub.execute_input": "2025-08-25T17:01:42.539052Z",
     "iopub.status.busy": "2025-08-25T17:01:42.538807Z",
     "iopub.status.idle": "2025-08-25T17:01:42.548864Z",
     "shell.execute_reply": "2025-08-25T17:01:42.548252Z",
     "shell.execute_reply.started": "2025-08-25T17:01:42.539033Z"
    },
    "id": "9e274700-fcbc-49eb-988a-cc0c2aa14f18",
    "trusted": true
   },
   "outputs": [],
   "source": [
    "basic_map = nn.Sequential(\n",
    "    nn.Linear(in_features=4, out_features=channels),\n",
    "    nn.ReLU(),\n",
    "    nn.Linear(in_features=channels, out_features=channels),\n",
    "    nn.ReLU(),\n",
    "    nn.Linear(in_features=channels, out_features=channels),\n",
    "    nn.ReLU(),\n",
    "    nn.Linear(in_features=channels, out_features=3),\n",
    "    nn.Sigmoid()\n",
    ").to(device)\n",
    "\n",
    "optimizer = optim.Adam(basic_map.parameters(), lr=10**-2)"
   ]
  },
  {
   "cell_type": "code",
   "execution_count": null,
   "metadata": {
    "execution": {
     "iopub.execute_input": "2025-08-25T17:01:42.549734Z",
     "iopub.status.busy": "2025-08-25T17:01:42.549548Z",
     "iopub.status.idle": "2025-08-25T17:03:22.180818Z",
     "shell.execute_reply": "2025-08-25T17:03:22.180184Z",
     "shell.execute_reply.started": "2025-08-25T17:01:42.549720Z"
    },
    "id": "a667df16-2c32-40f9-8cd7-46a35da713f9",
    "outputId": "0dd9ddfd-b4c6-4749-84ae-ea0c3c756614",
    "trusted": true
   },
   "outputs": [],
   "source": [
    "for epoch in range(1000):\n",
    "    epoch_loss = 0.0\n",
    "\n",
    "    pred = basic_map(b_input)\n",
    "    loss = criterion(pred, labels)\n",
    "    \n",
    "    epoch_loss = loss.item()\n",
    "    optimizer.zero_grad()\n",
    "    loss.backward()\n",
    "    optimizer.step()\n",
    "\n",
    "    img = pred.reshape(512,343,3).permute(2,0,1).detach().cpu()\n",
    "    torchvision.utils.save_image(img, f\"{vid_dir}basic/{epoch:04d}_loss_{epoch_loss:.6f}.png\")\n",
    "    print(epoch)\n",
    "    print(epoch_loss)"
   ]
  },
  {
   "cell_type": "code",
   "execution_count": null,
   "metadata": {
    "execution": {
     "iopub.execute_input": "2025-08-25T17:03:22.184660Z",
     "iopub.status.busy": "2025-08-25T17:03:22.184459Z",
     "iopub.status.idle": "2025-08-25T17:03:22.188915Z",
     "shell.execute_reply": "2025-08-25T17:03:22.188130Z",
     "shell.execute_reply.started": "2025-08-25T17:03:22.184645Z"
    },
    "id": "9fdd4a69-e50f-4b5f-8fce-165a6af0cc11",
    "trusted": true
   },
   "outputs": [],
   "source": [
    "learned = basic_map(b_input.to(device))"
   ]
  },
  {
   "cell_type": "code",
   "execution_count": null,
   "metadata": {
    "execution": {
     "iopub.execute_input": "2025-08-25T17:03:22.189974Z",
     "iopub.status.busy": "2025-08-25T17:03:22.189709Z",
     "iopub.status.idle": "2025-08-25T17:03:22.205058Z",
     "shell.execute_reply": "2025-08-25T17:03:22.204309Z",
     "shell.execute_reply.started": "2025-08-25T17:03:22.189953Z"
    },
    "id": "5c619d7a-e667-4f2c-a38f-bbc0e6e1da1e",
    "trusted": true
   },
   "outputs": [],
   "source": [
    "img = learned.view(512, 343, 3).detach().cpu()"
   ]
  },
  {
   "cell_type": "code",
   "execution_count": null,
   "metadata": {
    "execution": {
     "iopub.execute_input": "2025-08-25T17:03:22.206208Z",
     "iopub.status.busy": "2025-08-25T17:03:22.205956Z",
     "iopub.status.idle": "2025-08-25T17:03:22.367780Z",
     "shell.execute_reply": "2025-08-25T17:03:22.367063Z",
     "shell.execute_reply.started": "2025-08-25T17:03:22.206187Z"
    },
    "id": "31f92487-fd21-49f3-9054-7596927783ac",
    "outputId": "63b1e888-b9bf-4564-e859-4d9ede4ee8c5",
    "trusted": true
   },
   "outputs": [],
   "source": [
    "plt.imshow(img.numpy())\n",
    "plt.show()"
   ]
  },
  {
   "cell_type": "code",
   "execution_count": null,
   "metadata": {
    "execution": {
     "iopub.execute_input": "2025-08-25T17:03:22.368748Z",
     "iopub.status.busy": "2025-08-25T17:03:22.368551Z",
     "iopub.status.idle": "2025-08-25T17:03:22.374026Z",
     "shell.execute_reply": "2025-08-25T17:03:22.373433Z",
     "shell.execute_reply.started": "2025-08-25T17:03:22.368733Z"
    },
    "id": "4ZjvljyU1sV5",
    "trusted": true
   },
   "outputs": [],
   "source": [
    "pos_input = positional_encoding(grid, sig_pos, freq, device).detach().view(512 * 343, 1024)"
   ]
  },
  {
   "cell_type": "code",
   "execution_count": null,
   "metadata": {
    "execution": {
     "iopub.execute_input": "2025-08-25T17:03:22.374965Z",
     "iopub.status.busy": "2025-08-25T17:03:22.374725Z",
     "iopub.status.idle": "2025-08-25T17:03:22.456954Z",
     "shell.execute_reply": "2025-08-25T17:03:22.456491Z",
     "shell.execute_reply.started": "2025-08-25T17:03:22.374949Z"
    },
    "id": "vVYx0dqc2fDl",
    "trusted": true
   },
   "outputs": [],
   "source": [
    "pos_map = nn.Sequential(\n",
    "    nn.Linear(in_features=1024, out_features=channels),\n",
    "    nn.ReLU(),\n",
    "    nn.Linear(in_features=channels, out_features=channels),\n",
    "    nn.ReLU(),\n",
    "    nn.Linear(in_features=channels, out_features=channels),\n",
    "    nn.ReLU(),\n",
    "    nn.Linear(in_features=channels, out_features=3),\n",
    "    nn.Sigmoid()\n",
    ").to(device)\n",
    "\n",
    "optimizer = optim.Adam(pos_map.parameters(), lr=10**-3)"
   ]
  },
  {
   "cell_type": "code",
   "execution_count": null,
   "metadata": {
    "execution": {
     "iopub.execute_input": "2025-08-25T17:03:22.457803Z",
     "iopub.status.busy": "2025-08-25T17:03:22.457582Z",
     "iopub.status.idle": "2025-08-25T17:05:56.331043Z",
     "shell.execute_reply": "2025-08-25T17:05:56.330446Z",
     "shell.execute_reply.started": "2025-08-25T17:03:22.457778Z"
    },
    "id": "j4XmqrcL3FxL",
    "outputId": "0a68ebe6-488c-42ad-cfe7-83b91937dffb",
    "trusted": true
   },
   "outputs": [],
   "source": [
    "for epoch in range(1000):\n",
    "    epoch_loss = 0.0\n",
    "\n",
    "    pred = pos_map(pos_input)\n",
    "    loss = criterion(pred, labels)\n",
    "    \n",
    "    epoch_loss = loss.item()\n",
    "    optimizer.zero_grad()\n",
    "    loss.backward()\n",
    "    optimizer.step()\n",
    "\n",
    "    img = pred.reshape(512,343,3).permute(2,0,1).detach().cpu()\n",
    "    torchvision.utils.save_image(img, f\"{vid_dir}pos/{epoch:04d}_loss_{epoch_loss:.6f}.png\")\n",
    "    print(epoch)\n",
    "    print(epoch_loss)"
   ]
  },
  {
   "cell_type": "code",
   "execution_count": null,
   "metadata": {
    "execution": {
     "iopub.execute_input": "2025-08-25T17:05:56.332125Z",
     "iopub.status.busy": "2025-08-25T17:05:56.331806Z",
     "iopub.status.idle": "2025-08-25T17:05:56.336327Z",
     "shell.execute_reply": "2025-08-25T17:05:56.335609Z",
     "shell.execute_reply.started": "2025-08-25T17:05:56.332106Z"
    },
    "id": "R09i4JjG30zA",
    "trusted": true
   },
   "outputs": [],
   "source": [
    "learned = pos_map(pos_input.to(device))"
   ]
  },
  {
   "cell_type": "code",
   "execution_count": null,
   "metadata": {
    "execution": {
     "iopub.execute_input": "2025-08-25T17:05:56.337434Z",
     "iopub.status.busy": "2025-08-25T17:05:56.337065Z",
     "iopub.status.idle": "2025-08-25T17:05:56.368360Z",
     "shell.execute_reply": "2025-08-25T17:05:56.367684Z",
     "shell.execute_reply.started": "2025-08-25T17:05:56.337408Z"
    },
    "id": "O1ZSN6zb39Qr",
    "trusted": true
   },
   "outputs": [],
   "source": [
    "img = learned.view(512, 343, 3).detach().cpu()"
   ]
  },
  {
   "cell_type": "code",
   "execution_count": null,
   "metadata": {
    "execution": {
     "iopub.execute_input": "2025-08-25T17:05:56.369358Z",
     "iopub.status.busy": "2025-08-25T17:05:56.369063Z",
     "iopub.status.idle": "2025-08-25T17:05:56.550572Z",
     "shell.execute_reply": "2025-08-25T17:05:56.549785Z",
     "shell.execute_reply.started": "2025-08-25T17:05:56.369336Z"
    },
    "id": "5in4paw93-_a",
    "outputId": "012ef202-7143-4af3-83be-124a1ba71150",
    "trusted": true
   },
   "outputs": [],
   "source": [
    "plt.imshow(img.numpy())\n",
    "plt.show()"
   ]
  },
  {
   "cell_type": "code",
   "execution_count": null,
   "metadata": {
    "execution": {
     "iopub.execute_input": "2025-08-25T17:05:56.551612Z",
     "iopub.status.busy": "2025-08-25T17:05:56.551413Z",
     "iopub.status.idle": "2025-08-25T17:05:56.564458Z",
     "shell.execute_reply": "2025-08-25T17:05:56.563918Z",
     "shell.execute_reply.started": "2025-08-25T17:05:56.551596Z"
    },
    "id": "Q5_pG68aHiFq",
    "trusted": true
   },
   "outputs": [],
   "source": [
    "gaus_input = gaussian(grid, sig_gaus, freq, device).detach().view(512 * 343, 512)"
   ]
  },
  {
   "cell_type": "code",
   "execution_count": null,
   "metadata": {
    "execution": {
     "iopub.execute_input": "2025-08-25T17:05:56.565524Z",
     "iopub.status.busy": "2025-08-25T17:05:56.565211Z",
     "iopub.status.idle": "2025-08-25T17:05:56.576712Z",
     "shell.execute_reply": "2025-08-25T17:05:56.576048Z",
     "shell.execute_reply.started": "2025-08-25T17:05:56.565500Z"
    },
    "id": "XWyXv4bSSPwv",
    "trusted": true
   },
   "outputs": [],
   "source": [
    "gaus_map = nn.Sequential(\n",
    "    nn.Linear(in_features=512, out_features=channels),\n",
    "    nn.ReLU(),\n",
    "    nn.Linear(in_features=channels, out_features=channels),\n",
    "    nn.ReLU(),\n",
    "    nn.Linear(in_features=channels, out_features=channels),\n",
    "    nn.ReLU(),\n",
    "    nn.Linear(in_features=channels, out_features=3),\n",
    "    nn.Sigmoid()\n",
    ").to(device)\n",
    "\n",
    "optimizer = optim.Adam(gaus_map.parameters(), lr=10**-3)"
   ]
  },
  {
   "cell_type": "code",
   "execution_count": null,
   "metadata": {
    "execution": {
     "iopub.execute_input": "2025-08-25T17:05:56.577885Z",
     "iopub.status.busy": "2025-08-25T17:05:56.577657Z",
     "iopub.status.idle": "2025-08-25T17:08:28.534149Z",
     "shell.execute_reply": "2025-08-25T17:08:28.533412Z",
     "shell.execute_reply.started": "2025-08-25T17:05:56.577864Z"
    },
    "id": "g6wX6yRnSYtQ",
    "outputId": "411a6117-a604-4cf7-8cf5-51b8c33f067d",
    "trusted": true
   },
   "outputs": [],
   "source": [
    "for epoch in range(1000):\n",
    "    epoch_loss = 0.0\n",
    "\n",
    "    pred = gaus_map(gaus_input)\n",
    "    loss = criterion(pred, labels)\n",
    "    \n",
    "    epoch_loss = loss.item()\n",
    "    optimizer.zero_grad()\n",
    "    loss.backward()\n",
    "    optimizer.step()\n",
    "\n",
    "    img = pred.reshape(512,343,3).permute(2,0,1).detach().cpu()\n",
    "    torchvision.utils.save_image(img, f\"{vid_dir}gaus/{epoch:04d}_loss_{epoch_loss:.6f}.png\")\n",
    "    print(epoch)\n",
    "    print(epoch_loss)"
   ]
  },
  {
   "cell_type": "code",
   "execution_count": null,
   "metadata": {
    "execution": {
     "iopub.execute_input": "2025-08-25T17:08:28.535846Z",
     "iopub.status.busy": "2025-08-25T17:08:28.535352Z",
     "iopub.status.idle": "2025-08-25T17:08:28.539847Z",
     "shell.execute_reply": "2025-08-25T17:08:28.539311Z",
     "shell.execute_reply.started": "2025-08-25T17:08:28.535827Z"
    },
    "id": "79mob8q3VgfJ",
    "trusted": true
   },
   "outputs": [],
   "source": [
    "learned = gaus_map(gaus_input.to(device))"
   ]
  },
  {
   "cell_type": "code",
   "execution_count": null,
   "metadata": {
    "execution": {
     "iopub.execute_input": "2025-08-25T17:08:28.540842Z",
     "iopub.status.busy": "2025-08-25T17:08:28.540583Z",
     "iopub.status.idle": "2025-08-25T17:08:28.562221Z",
     "shell.execute_reply": "2025-08-25T17:08:28.561747Z",
     "shell.execute_reply.started": "2025-08-25T17:08:28.540819Z"
    },
    "id": "2CB4yDGlVkPf",
    "trusted": true
   },
   "outputs": [],
   "source": [
    "img = learned.view(512, 343, 3).detach().cpu()"
   ]
  },
  {
   "cell_type": "code",
   "execution_count": null,
   "metadata": {
    "execution": {
     "iopub.execute_input": "2025-08-25T17:08:28.563013Z",
     "iopub.status.busy": "2025-08-25T17:08:28.562825Z",
     "iopub.status.idle": "2025-08-25T17:08:28.566324Z",
     "shell.execute_reply": "2025-08-25T17:08:28.565645Z",
     "shell.execute_reply.started": "2025-08-25T17:08:28.562991Z"
    },
    "trusted": true
   },
   "outputs": [],
   "source": [
    "import matplotlib.pyplot as plt"
   ]
  },
  {
   "cell_type": "code",
   "execution_count": null,
   "metadata": {
    "execution": {
     "iopub.execute_input": "2025-08-25T17:08:28.567236Z",
     "iopub.status.busy": "2025-08-25T17:08:28.567048Z",
     "iopub.status.idle": "2025-08-25T17:08:28.761100Z",
     "shell.execute_reply": "2025-08-25T17:08:28.760410Z",
     "shell.execute_reply.started": "2025-08-25T17:08:28.567222Z"
    },
    "id": "KX_ncP7pVoyX",
    "trusted": true
   },
   "outputs": [],
   "source": [
    "plt.imshow(img.numpy())\n",
    "plt.show()"
   ]
  },
  {
   "cell_type": "code",
   "execution_count": null,
   "metadata": {
    "execution": {
     "iopub.execute_input": "2025-08-25T17:08:28.762009Z",
     "iopub.status.busy": "2025-08-25T17:08:28.761811Z",
     "iopub.status.idle": "2025-08-25T17:08:28.897621Z",
     "shell.execute_reply": "2025-08-25T17:08:28.896836Z",
     "shell.execute_reply.started": "2025-08-25T17:08:28.761994Z"
    },
    "trusted": true
   },
   "outputs": [],
   "source": [
    "!touch {vid_dir}/test.txt"
   ]
  },
  {
   "cell_type": "code",
   "execution_count": null,
   "metadata": {
    "execution": {
     "iopub.execute_input": "2025-08-25T17:08:28.898778Z",
     "iopub.status.busy": "2025-08-25T17:08:28.898566Z",
     "iopub.status.idle": "2025-08-25T17:08:46.112109Z",
     "shell.execute_reply": "2025-08-25T17:08:46.111132Z",
     "shell.execute_reply.started": "2025-08-25T17:08:28.898755Z"
    },
    "trusted": true
   },
   "outputs": [],
   "source": [
    "!zip -r \"{vid_dir}/images.zip\" \"{vid_dir}\" -x \"{vid_dir}/images.zip\" \"{vid_dir}/images.zip/*\""
   ]
  }
 ],
 "metadata": {
  "accelerator": "GPU",
  "colab": {
   "gpuType": "T4",
   "provenance": []
  },
  "kaggle": {
   "accelerator": "nvidiaTeslaT4",
   "dataSources": [
    {
     "datasetId": 8107673,
     "sourceId": 12821095,
     "sourceType": "datasetVersion"
    }
   ],
   "dockerImageVersionId": 31089,
   "isGpuEnabled": true,
   "isInternetEnabled": false,
   "language": "python",
   "sourceType": "notebook"
  },
  "kernelspec": {
   "display_name": "Python 3",
   "language": "python",
   "name": "python3"
  },
  "language_info": {
   "codemirror_mode": {
    "name": "ipython",
    "version": 3
   },
   "file_extension": ".py",
   "mimetype": "text/x-python",
   "name": "python",
   "nbconvert_exporter": "python",
   "pygments_lexer": "ipython3",
   "version": "3.11.13"
  }
 },
 "nbformat": 4,
 "nbformat_minor": 4
}
